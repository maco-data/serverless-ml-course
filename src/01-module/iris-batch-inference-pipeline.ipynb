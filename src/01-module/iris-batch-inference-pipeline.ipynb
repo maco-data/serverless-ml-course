{
 "cells": [
  {
   "cell_type": "markdown",
   "metadata": {
    "id": "d2kLrOh-bpGy"
   },
   "source": [
    "# Iris Flower - Batch Prediction\n",
    "\n",
    "\n",
    "In this notebook we will, \n",
    "\n",
    "1. Load the batch inference data that arrived in the last 24 hours\n",
    "2. Predict the first Iris Flower found in the batch\n",
    "3. Write the ouput png of the Iris flower predicted, to be displayed in Github Pages."
   ]
  },
  {
   "cell_type": "code",
   "execution_count": 38,
   "metadata": {
    "id": "xRtpj-psbpG8"
   },
   "outputs": [
    {
     "name": "stdout",
     "output_type": "stream",
     "text": [
      "Connection closed.\n",
      "Connected. Call `.close()` to terminate connection gracefully.\n",
      "\n",
      "Logged in to project, explore it here https://c.app.hopsworks.ai:443/p/2237\n",
      "Connected. Call `.close()` to terminate connection gracefully.\n"
     ]
    }
   ],
   "source": [
    "import pandas as pd\n",
    "import hopsworks\n",
    "import joblib\n",
    "\n",
    "project = hopsworks.login()\n",
    "fs = project.get_feature_store()"
   ]
  },
  {
   "cell_type": "code",
   "execution_count": 39,
   "metadata": {},
   "outputs": [
    {
     "name": "stdout",
     "output_type": "stream",
     "text": [
      "Connected. Call `.close()` to terminate connection gracefully.\n",
      "Downloading file ... "
     ]
    }
   ],
   "source": [
    "mr = project.get_model_registry()\n",
    "model = mr.get_model(\"iris\", version=1)\n",
    "model_dir = model.download()\n",
    "model = joblib.load(model_dir + \"/iris_model.pkl\")"
   ]
  },
  {
   "cell_type": "markdown",
   "metadata": {},
   "source": [
    "We are downloading the 'raw' iris data. We explicitly do not want transformed data, reading for training. \n",
    "\n",
    "So, let's download the iris dataset, and preview some rows. \n",
    "\n",
    "Note, that it is 'tabular data'. There are 5 columns: 4 of them are \"features\", and the \"variety\" column is the **target** (what we are trying to predict using the 4 feature values in the target's row)."
   ]
  },
  {
   "cell_type": "code",
   "execution_count": 40,
   "metadata": {
    "colab": {
     "base_uri": "https://localhost:8080/",
     "height": 206
    },
    "id": "nRmFM7vcbpHA",
    "outputId": "d920d168-9818-40c5-c292-4cf0afcbbcfd"
   },
   "outputs": [],
   "source": [
    "feature_view = fs.get_feature_view(name=\"iris\", version=1)"
   ]
  },
  {
   "cell_type": "markdown",
   "metadata": {},
   "source": [
    "Now we will do some **Batch Inference**. \n",
    "\n",
    "We will read all the input features that have arrived in the last 24 hours, and score them."
   ]
  },
  {
   "cell_type": "code",
   "execution_count": 41,
   "metadata": {
    "id": "uHuAD3ttP8Ep"
   },
   "outputs": [
    {
     "name": "stderr",
     "output_type": "stream",
     "text": [
      "VersionWarning: No training dataset version was provided to initialise batch scoring . Defaulting to version 1.\n"
     ]
    },
    {
     "name": "stdout",
     "output_type": "stream",
     "text": [
      "2022-10-03 14:34:19,646 INFO: USE `maco_ml_featurestore`\n",
      "2022-10-03 14:34:20,834 INFO: SELECT `fg0`.`sepal_length` `sepal_length`, `fg0`.`sepal_width` `sepal_width`, `fg0`.`petal_length` `petal_length`, `fg0`.`petal_width` `petal_width`\n",
      "FROM `maco_ml_featurestore`.`iris_1` `fg0`\n"
     ]
    },
    {
     "name": "stderr",
     "output_type": "stream",
     "text": [
      "UserWarning: pandas only supports SQLAlchemy connectable (engine/connection) or database string URI or sqlite3 DBAPI2 connection. Other DBAPI2 objects are not tested. Please consider using SQLAlchemy.\n"
     ]
    },
    {
     "data": {
      "text/plain": [
       "array(['Setosa', 'Versicolor', 'Virginica', 'Versicolor', 'Setosa',\n",
       "       'Versicolor', 'Virginica', 'Versicolor', 'Setosa', 'Setosa',\n",
       "       'Setosa', 'Setosa', 'Versicolor', 'Virginica', 'Setosa',\n",
       "       'Virginica', 'Versicolor', 'Setosa', 'Versicolor', 'Versicolor',\n",
       "       'Setosa', 'Versicolor', 'Setosa', 'Setosa', 'Versicolor',\n",
       "       'Virginica', 'Virginica', 'Virginica', 'Virginica', 'Versicolor',\n",
       "       'Versicolor', 'Setosa', 'Setosa', 'Virginica', 'Setosa',\n",
       "       'Virginica', 'Setosa', 'Versicolor', 'Virginica', 'Versicolor',\n",
       "       'Virginica', 'Setosa', 'Versicolor', 'Virginica', 'Versicolor',\n",
       "       'Setosa', 'Versicolor', 'Versicolor', 'Virginica', 'Setosa',\n",
       "       'Setosa', 'Virginica', 'Virginica', 'Versicolor', 'Versicolor',\n",
       "       'Virginica', 'Versicolor', 'Versicolor', 'Versicolor', 'Setosa',\n",
       "       'Virginica', 'Virginica', 'Virginica', 'Setosa', 'Virginica',\n",
       "       'Setosa', 'Versicolor', 'Versicolor', 'Setosa', 'Setosa', 'Setosa',\n",
       "       'Virginica', 'Versicolor', 'Versicolor', 'Versicolor', 'Virginica',\n",
       "       'Versicolor', 'Versicolor', 'Versicolor', 'Setosa', 'Setosa',\n",
       "       'Setosa', 'Versicolor', 'Virginica', 'Versicolor', 'Setosa',\n",
       "       'Versicolor', 'Virginica', 'Setosa', 'Virginica', 'Virginica',\n",
       "       'Virginica', 'Versicolor', 'Versicolor', 'Versicolor', 'Setosa',\n",
       "       'Setosa', 'Setosa', 'Versicolor', 'Virginica', 'Virginica',\n",
       "       'Setosa', 'Setosa', 'Versicolor', 'Virginica', 'Setosa',\n",
       "       'Versicolor', 'Virginica', 'Versicolor', 'Virginica', 'Setosa',\n",
       "       'Versicolor', 'Virginica', 'Setosa', 'Setosa', 'Versicolor',\n",
       "       'Versicolor', 'Setosa', 'Versicolor', 'Versicolor', 'Virginica',\n",
       "       'Versicolor', 'Setosa', 'Virginica', 'Versicolor', 'Virginica',\n",
       "       'Versicolor', 'Virginica', 'Virginica', 'Setosa', 'Versicolor',\n",
       "       'Versicolor', 'Setosa', 'Setosa', 'Virginica', 'Versicolor',\n",
       "       'Virginica', 'Setosa', 'Setosa', 'Versicolor', 'Setosa',\n",
       "       'Virginica', 'Setosa', 'Setosa', 'Versicolor', 'Virginica',\n",
       "       'Virginica', 'Virginica', 'Setosa', 'Setosa', 'Virginica',\n",
       "       'Versicolor'], dtype=object)"
      ]
     },
     "execution_count": 41,
     "metadata": {},
     "output_type": "execute_result"
    }
   ],
   "source": [
    "import datetime\n",
    "from PIL import Image\n",
    "\n",
    "batch_data = feature_view.get_batch_data()\n",
    "\n",
    "y_pred = model.predict(batch_data)\n",
    "\n",
    "y_pred"
   ]
  },
  {
   "cell_type": "code",
   "execution_count": 42,
   "metadata": {},
   "outputs": [
    {
     "data": {
      "text/html": [
       "<div>\n",
       "<style scoped>\n",
       "    .dataframe tbody tr th:only-of-type {\n",
       "        vertical-align: middle;\n",
       "    }\n",
       "\n",
       "    .dataframe tbody tr th {\n",
       "        vertical-align: top;\n",
       "    }\n",
       "\n",
       "    .dataframe thead th {\n",
       "        text-align: right;\n",
       "    }\n",
       "</style>\n",
       "<table border=\"1\" class=\"dataframe\">\n",
       "  <thead>\n",
       "    <tr style=\"text-align: right;\">\n",
       "      <th></th>\n",
       "      <th>sepal_length</th>\n",
       "      <th>sepal_width</th>\n",
       "      <th>petal_length</th>\n",
       "      <th>petal_width</th>\n",
       "    </tr>\n",
       "  </thead>\n",
       "  <tbody>\n",
       "    <tr>\n",
       "      <th>0</th>\n",
       "      <td>5.700000</td>\n",
       "      <td>3.800000</td>\n",
       "      <td>1.700000</td>\n",
       "      <td>0.300000</td>\n",
       "    </tr>\n",
       "    <tr>\n",
       "      <th>1</th>\n",
       "      <td>5.600000</td>\n",
       "      <td>2.700000</td>\n",
       "      <td>4.200000</td>\n",
       "      <td>1.300000</td>\n",
       "    </tr>\n",
       "    <tr>\n",
       "      <th>2</th>\n",
       "      <td>6.300000</td>\n",
       "      <td>3.300000</td>\n",
       "      <td>6.000000</td>\n",
       "      <td>2.500000</td>\n",
       "    </tr>\n",
       "    <tr>\n",
       "      <th>3</th>\n",
       "      <td>6.000000</td>\n",
       "      <td>2.900000</td>\n",
       "      <td>4.500000</td>\n",
       "      <td>1.500000</td>\n",
       "    </tr>\n",
       "    <tr>\n",
       "      <th>4</th>\n",
       "      <td>5.000000</td>\n",
       "      <td>3.000000</td>\n",
       "      <td>1.600000</td>\n",
       "      <td>0.200000</td>\n",
       "    </tr>\n",
       "    <tr>\n",
       "      <th>...</th>\n",
       "      <td>...</td>\n",
       "      <td>...</td>\n",
       "      <td>...</td>\n",
       "      <td>...</td>\n",
       "    </tr>\n",
       "    <tr>\n",
       "      <th>147</th>\n",
       "      <td>6.400000</td>\n",
       "      <td>2.800000</td>\n",
       "      <td>5.600000</td>\n",
       "      <td>2.100000</td>\n",
       "    </tr>\n",
       "    <tr>\n",
       "      <th>148</th>\n",
       "      <td>5.000000</td>\n",
       "      <td>3.400000</td>\n",
       "      <td>1.600000</td>\n",
       "      <td>0.400000</td>\n",
       "    </tr>\n",
       "    <tr>\n",
       "      <th>149</th>\n",
       "      <td>5.978582</td>\n",
       "      <td>3.506093</td>\n",
       "      <td>1.984111</td>\n",
       "      <td>0.491551</td>\n",
       "    </tr>\n",
       "    <tr>\n",
       "      <th>150</th>\n",
       "      <td>6.518238</td>\n",
       "      <td>2.570345</td>\n",
       "      <td>5.890480</td>\n",
       "      <td>2.344097</td>\n",
       "    </tr>\n",
       "    <tr>\n",
       "      <th>151</th>\n",
       "      <td>7.184399</td>\n",
       "      <td>3.177969</td>\n",
       "      <td>3.432479</td>\n",
       "      <td>1.072240</td>\n",
       "    </tr>\n",
       "  </tbody>\n",
       "</table>\n",
       "<p>152 rows × 4 columns</p>\n",
       "</div>"
      ],
      "text/plain": [
       "     sepal_length  sepal_width  petal_length  petal_width\n",
       "0        5.700000     3.800000      1.700000     0.300000\n",
       "1        5.600000     2.700000      4.200000     1.300000\n",
       "2        6.300000     3.300000      6.000000     2.500000\n",
       "3        6.000000     2.900000      4.500000     1.500000\n",
       "4        5.000000     3.000000      1.600000     0.200000\n",
       "..            ...          ...           ...          ...\n",
       "147      6.400000     2.800000      5.600000     2.100000\n",
       "148      5.000000     3.400000      1.600000     0.400000\n",
       "149      5.978582     3.506093      1.984111     0.491551\n",
       "150      6.518238     2.570345      5.890480     2.344097\n",
       "151      7.184399     3.177969      3.432479     1.072240\n",
       "\n",
       "[152 rows x 4 columns]"
      ]
     },
     "execution_count": 42,
     "metadata": {},
     "output_type": "execute_result"
    }
   ],
   "source": [
    "batch_data"
   ]
  },
  {
   "cell_type": "markdown",
   "metadata": {},
   "source": [
    "Batch prediction output is the last entry in the batch - it is output as a file 'latest_iris.png'"
   ]
  },
  {
   "cell_type": "code",
   "execution_count": 43,
   "metadata": {},
   "outputs": [],
   "source": [
    "flower = y_pred[y_pred.size-1]\n",
    "flower_img = \"assets/\" + flower + \".png\"\n",
    "img = Image.open(flower_img)            \n",
    "\n",
    "img.save(\"../../assets/latest_iris.png\")"
   ]
  },
  {
   "cell_type": "code",
   "execution_count": 44,
   "metadata": {},
   "outputs": [
    {
     "name": "stdout",
     "output_type": "stream",
     "text": [
      "2022-10-03 14:34:37,499 INFO: USE `maco_ml_featurestore`\n",
      "2022-10-03 14:34:38,658 INFO: SELECT `fg0`.`sepal_length` `sepal_length`, `fg0`.`sepal_width` `sepal_width`, `fg0`.`petal_length` `petal_length`, `fg0`.`petal_width` `petal_width`, `fg0`.`variety` `variety`\n",
      "FROM `maco_ml_featurestore`.`iris_1` `fg0`\n"
     ]
    },
    {
     "name": "stderr",
     "output_type": "stream",
     "text": [
      "UserWarning: pandas only supports SQLAlchemy connectable (engine/connection) or database string URI or sqlite3 DBAPI2 connection. Other DBAPI2 objects are not tested. Please consider using SQLAlchemy.\n"
     ]
    },
    {
     "data": {
      "text/html": [
       "<div>\n",
       "<style scoped>\n",
       "    .dataframe tbody tr th:only-of-type {\n",
       "        vertical-align: middle;\n",
       "    }\n",
       "\n",
       "    .dataframe tbody tr th {\n",
       "        vertical-align: top;\n",
       "    }\n",
       "\n",
       "    .dataframe thead th {\n",
       "        text-align: right;\n",
       "    }\n",
       "</style>\n",
       "<table border=\"1\" class=\"dataframe\">\n",
       "  <thead>\n",
       "    <tr style=\"text-align: right;\">\n",
       "      <th></th>\n",
       "      <th>sepal_length</th>\n",
       "      <th>sepal_width</th>\n",
       "      <th>petal_length</th>\n",
       "      <th>petal_width</th>\n",
       "      <th>variety</th>\n",
       "    </tr>\n",
       "  </thead>\n",
       "  <tbody>\n",
       "    <tr>\n",
       "      <th>0</th>\n",
       "      <td>5.700000</td>\n",
       "      <td>3.800000</td>\n",
       "      <td>1.700000</td>\n",
       "      <td>0.300000</td>\n",
       "      <td>Setosa</td>\n",
       "    </tr>\n",
       "    <tr>\n",
       "      <th>1</th>\n",
       "      <td>5.600000</td>\n",
       "      <td>2.700000</td>\n",
       "      <td>4.200000</td>\n",
       "      <td>1.300000</td>\n",
       "      <td>Versicolor</td>\n",
       "    </tr>\n",
       "    <tr>\n",
       "      <th>2</th>\n",
       "      <td>6.300000</td>\n",
       "      <td>3.300000</td>\n",
       "      <td>6.000000</td>\n",
       "      <td>2.500000</td>\n",
       "      <td>Virginica</td>\n",
       "    </tr>\n",
       "    <tr>\n",
       "      <th>3</th>\n",
       "      <td>6.000000</td>\n",
       "      <td>2.900000</td>\n",
       "      <td>4.500000</td>\n",
       "      <td>1.500000</td>\n",
       "      <td>Versicolor</td>\n",
       "    </tr>\n",
       "    <tr>\n",
       "      <th>4</th>\n",
       "      <td>5.000000</td>\n",
       "      <td>3.000000</td>\n",
       "      <td>1.600000</td>\n",
       "      <td>0.200000</td>\n",
       "      <td>Setosa</td>\n",
       "    </tr>\n",
       "    <tr>\n",
       "      <th>...</th>\n",
       "      <td>...</td>\n",
       "      <td>...</td>\n",
       "      <td>...</td>\n",
       "      <td>...</td>\n",
       "      <td>...</td>\n",
       "    </tr>\n",
       "    <tr>\n",
       "      <th>147</th>\n",
       "      <td>6.400000</td>\n",
       "      <td>2.800000</td>\n",
       "      <td>5.600000</td>\n",
       "      <td>2.100000</td>\n",
       "      <td>Virginica</td>\n",
       "    </tr>\n",
       "    <tr>\n",
       "      <th>148</th>\n",
       "      <td>5.000000</td>\n",
       "      <td>3.400000</td>\n",
       "      <td>1.600000</td>\n",
       "      <td>0.400000</td>\n",
       "      <td>Setosa</td>\n",
       "    </tr>\n",
       "    <tr>\n",
       "      <th>149</th>\n",
       "      <td>5.978582</td>\n",
       "      <td>3.506093</td>\n",
       "      <td>1.984111</td>\n",
       "      <td>0.491551</td>\n",
       "      <td>Setosa</td>\n",
       "    </tr>\n",
       "    <tr>\n",
       "      <th>150</th>\n",
       "      <td>6.518238</td>\n",
       "      <td>2.570345</td>\n",
       "      <td>5.890480</td>\n",
       "      <td>2.344097</td>\n",
       "      <td>Virginica</td>\n",
       "    </tr>\n",
       "    <tr>\n",
       "      <th>151</th>\n",
       "      <td>7.184399</td>\n",
       "      <td>3.177969</td>\n",
       "      <td>3.432479</td>\n",
       "      <td>1.072240</td>\n",
       "      <td>Versicolor</td>\n",
       "    </tr>\n",
       "  </tbody>\n",
       "</table>\n",
       "<p>152 rows × 5 columns</p>\n",
       "</div>"
      ],
      "text/plain": [
       "     sepal_length  sepal_width  petal_length  petal_width     variety\n",
       "0        5.700000     3.800000      1.700000     0.300000      Setosa\n",
       "1        5.600000     2.700000      4.200000     1.300000  Versicolor\n",
       "2        6.300000     3.300000      6.000000     2.500000   Virginica\n",
       "3        6.000000     2.900000      4.500000     1.500000  Versicolor\n",
       "4        5.000000     3.000000      1.600000     0.200000      Setosa\n",
       "..            ...          ...           ...          ...         ...\n",
       "147      6.400000     2.800000      5.600000     2.100000   Virginica\n",
       "148      5.000000     3.400000      1.600000     0.400000      Setosa\n",
       "149      5.978582     3.506093      1.984111     0.491551      Setosa\n",
       "150      6.518238     2.570345      5.890480     2.344097   Virginica\n",
       "151      7.184399     3.177969      3.432479     1.072240  Versicolor\n",
       "\n",
       "[152 rows x 5 columns]"
      ]
     },
     "execution_count": 44,
     "metadata": {},
     "output_type": "execute_result"
    }
   ],
   "source": [
    "iris_fg = fs.get_feature_group(name=\"iris\", version=1)\n",
    "df = iris_fg.read()\n",
    "df"
   ]
  },
  {
   "cell_type": "code",
   "execution_count": 45,
   "metadata": {},
   "outputs": [
    {
     "data": {
      "text/plain": [
       "'Versicolor'"
      ]
     },
     "execution_count": 45,
     "metadata": {},
     "output_type": "execute_result"
    }
   ],
   "source": [
    "label = df.iloc[-1][\"variety\"]\n",
    "label"
   ]
  },
  {
   "cell_type": "code",
   "execution_count": 46,
   "metadata": {},
   "outputs": [],
   "source": [
    "label_flower = \"assets/\" + label + \".png\"\n",
    "\n",
    "img = Image.open(label_flower)            \n",
    "\n",
    "img.save(\"../../assets/actual_iris.png\")"
   ]
  },
  {
   "cell_type": "code",
   "execution_count": 47,
   "metadata": {},
   "outputs": [],
   "source": [
    "import pandas as pd\n",
    "\n",
    "monitor_fg = fs.get_or_create_feature_group(name=\"iris_predictions\",\n",
    "                                  version=1,\n",
    "                                  primary_key=[\"datetime\"],\n",
    "                                  description=\"Iris flower Prediction/Outcome Monitoring\"\n",
    "                                 )"
   ]
  },
  {
   "cell_type": "code",
   "execution_count": 48,
   "metadata": {},
   "outputs": [
    {
     "data": {
      "application/vnd.jupyter.widget-view+json": {
       "model_id": "9688eef3f4c44642860165e289d884af",
       "version_major": 2,
       "version_minor": 0
      },
      "text/plain": [
       "Uploading Dataframe: 0.00% |          | Rows 0/1 | Elapsed Time: 00:00 | Remaining Time: ?"
      ]
     },
     "metadata": {},
     "output_type": "display_data"
    },
    {
     "name": "stdout",
     "output_type": "stream",
     "text": [
      "Launching offline feature group backfill job...\n",
      "Backfill Job started successfully, you can follow the progress at \n",
      "https://c.app.hopsworks.ai/p/2237/jobs/named/iris_predictions_1_offline_fg_backfill/executions\n"
     ]
    },
    {
     "data": {
      "text/plain": [
       "(<hsfs.core.job.Job at 0x16137db80>, None)"
      ]
     },
     "execution_count": 48,
     "metadata": {},
     "output_type": "execute_result"
    }
   ],
   "source": [
    "from datetime import datetime\n",
    "now = datetime.now().strftime(\"%m/%d/%Y, %H:%M:%S\")\n",
    "\n",
    "data = {\n",
    "    'prediction': [flower],\n",
    "    'label': [label],\n",
    "    'datetime': [now],\n",
    "}\n",
    "monitor_df = pd.DataFrame(data)\n",
    "monitor_fg.insert(monitor_df)"
   ]
  },
  {
   "cell_type": "code",
   "execution_count": 49,
   "metadata": {},
   "outputs": [
    {
     "name": "stdout",
     "output_type": "stream",
     "text": [
      "2022-10-03 14:35:51,446 INFO: USE `maco_ml_featurestore`\n",
      "2022-10-03 14:35:52,532 INFO: SELECT `fg0`.`prediction` `prediction`, `fg0`.`label` `label`, `fg0`.`datetime` `datetime`\n",
      "FROM `maco_ml_featurestore`.`iris_predictions_1` `fg0`\n"
     ]
    },
    {
     "name": "stderr",
     "output_type": "stream",
     "text": [
      "UserWarning: pandas only supports SQLAlchemy connectable (engine/connection) or database string URI or sqlite3 DBAPI2 connection. Other DBAPI2 objects are not tested. Please consider using SQLAlchemy.\n"
     ]
    },
    {
     "data": {
      "text/html": [
       "<div>\n",
       "<style scoped>\n",
       "    .dataframe tbody tr th:only-of-type {\n",
       "        vertical-align: middle;\n",
       "    }\n",
       "\n",
       "    .dataframe tbody tr th {\n",
       "        vertical-align: top;\n",
       "    }\n",
       "\n",
       "    .dataframe thead th {\n",
       "        text-align: right;\n",
       "    }\n",
       "</style>\n",
       "<table border=\"1\" class=\"dataframe\">\n",
       "  <thead>\n",
       "    <tr style=\"text-align: right;\">\n",
       "      <th></th>\n",
       "      <th>prediction</th>\n",
       "      <th>label</th>\n",
       "      <th>datetime</th>\n",
       "    </tr>\n",
       "  </thead>\n",
       "  <tbody>\n",
       "    <tr>\n",
       "      <th>0</th>\n",
       "      <td>Setosa</td>\n",
       "      <td>Setosa</td>\n",
       "      <td>10/03/2022, 13:59:06</td>\n",
       "    </tr>\n",
       "    <tr>\n",
       "      <th>1</th>\n",
       "      <td>Setosa</td>\n",
       "      <td>Setosa</td>\n",
       "      <td>10/03/2022, 14:25:18</td>\n",
       "    </tr>\n",
       "    <tr>\n",
       "      <th>2</th>\n",
       "      <td>Virginica</td>\n",
       "      <td>Virginica</td>\n",
       "      <td>10/03/2022, 14:30:34</td>\n",
       "    </tr>\n",
       "    <tr>\n",
       "      <th>3</th>\n",
       "      <td>Versicolor</td>\n",
       "      <td>Versicolor</td>\n",
       "      <td>10/03/2022, 14:34:53</td>\n",
       "    </tr>\n",
       "  </tbody>\n",
       "</table>\n",
       "</div>"
      ],
      "text/plain": [
       "   prediction       label              datetime\n",
       "0      Setosa      Setosa  10/03/2022, 13:59:06\n",
       "1      Setosa      Setosa  10/03/2022, 14:25:18\n",
       "2   Virginica   Virginica  10/03/2022, 14:30:34\n",
       "3  Versicolor  Versicolor  10/03/2022, 14:34:53"
      ]
     },
     "execution_count": 49,
     "metadata": {},
     "output_type": "execute_result"
    }
   ],
   "source": [
    "history_df = monitor_fg.read()\n",
    "history_df"
   ]
  },
  {
   "cell_type": "code",
   "execution_count": 55,
   "metadata": {},
   "outputs": [
    {
     "name": "stderr",
     "output_type": "stream",
     "text": [
      "DeprecationWarning: `nbconvert.exporters.exporter_locator` is deprecated in favor of `nbconvert.exporters.base` since nbconvert 5.0.\n",
      "objc[97106]: Class WebSwapCGLLayer is implemented in both /System/Library/Frameworks/WebKit.framework/Versions/A/Frameworks/WebCore.framework/Versions/A/Frameworks/libANGLE-shared.dylib (0x252061b50) and /Applications/Google Chrome.app/Contents/Frameworks/Google Chrome Framework.framework/Versions/106.0.5249.61/Libraries/libGLESv2.dylib (0x10de7a978). One of the two will be used. Which one is undefined.\n",
      "[1003/145658.344217:INFO:headless_shell.cc(660)] Written to file /var/folders/yb/swpw3f2s251gxtfh2mr8y9l00000gn/T/tmppm635pdq/temp.png.\n"
     ]
    }
   ],
   "source": [
    "import dataframe_image as dfi\n",
    "\n",
    "df_recent = history_df.tail(5)\n",
    " \n",
    "# If you exclude this image, you may have the same iris_latest.png and iris_actual.png files\n",
    "# If no files have changed, the GH-action 'git commit/push' stage fails, failing your GH action (last step)\n",
    "# This image, however, is always new, ensuring git commit/push will succeed.\n",
    "dfi.export(df_recent, '../../assets/df_recent.png', table_conversion = 'matplotlib')"
   ]
  },
  {
   "cell_type": "code",
   "execution_count": 52,
   "metadata": {},
   "outputs": [
    {
     "name": "stdout",
     "output_type": "stream",
     "text": [
      "[[2 0 0]\n",
      " [0 1 0]\n",
      " [0 0 1]]\n"
     ]
    }
   ],
   "source": [
    "from sklearn.metrics import confusion_matrix\n",
    "\n",
    "predictions = history_df[['prediction']]\n",
    "labels = history_df[['label']]\n",
    "\n",
    "results = confusion_matrix(labels, predictions)\n",
    "print(results)"
   ]
  },
  {
   "cell_type": "code",
   "execution_count": 53,
   "metadata": {},
   "outputs": [
    {
     "data": {
      "image/png": "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",
      "text/plain": [
       "<Figure size 640x480 with 2 Axes>"
      ]
     },
     "metadata": {},
     "output_type": "display_data"
    }
   ],
   "source": [
    "from matplotlib import pyplot\n",
    "import seaborn as sns\n",
    "\n",
    "# Only create the confusion matrix when our iris_predictions feature group has examples of all 3 iris flowers\n",
    "if results.shape == (3,3):\n",
    "\n",
    "    df_cm = pd.DataFrame(results, ['True Setosa', 'True Versicolor', 'True Virginica'],\n",
    "                         ['Pred Setosa', 'Pred Versicolor', 'Pred Virginica'])\n",
    "\n",
    "    cm = sns.heatmap(df_cm, annot=True)\n",
    "\n",
    "    fig = cm.get_figure()\n",
    "    fig.savefig(\"../../assets/confusion_matrix.png\") \n",
    "    df_cm\n",
    "else:\n",
    "    print(\"Run the batch inference pipeline more times until you get 3 different iris flowers\")    "
   ]
  }
 ],
 "metadata": {
  "colab": {
   "collapsed_sections": [],
   "provenance": []
  },
  "kernelspec": {
<<<<<<< HEAD
   "display_name": "Python 3.8.13 ('mini_ds')",
=======
   "display_name": "Python 3.10.6 64-bit",
>>>>>>> b4345e11337341fd38b1d878e9de85a5a59a2888
   "language": "python",
   "name": "python3"
  },
  "language_info": {
   "codemirror_mode": {
    "name": "ipython",
    "version": 3
   },
   "file_extension": ".py",
   "mimetype": "text/x-python",
   "name": "python",
   "nbconvert_exporter": "python",
   "pygments_lexer": "ipython3",
<<<<<<< HEAD
   "version": "3.8.13"
  },
  "vscode": {
   "interpreter": {
    "hash": "64c257cb6e8e605313e36003a640640b058a450265d992c49693eab05a770323"
=======
   "version": "3.10.6"
  },
  "vscode": {
   "interpreter": {
    "hash": "b0fa6594d8f4cbf19f97940f81e996739fb7646882a419484c72d19e05852a7e"
>>>>>>> b4345e11337341fd38b1d878e9de85a5a59a2888
   }
  }
 },
 "nbformat": 4,
 "nbformat_minor": 1
}
