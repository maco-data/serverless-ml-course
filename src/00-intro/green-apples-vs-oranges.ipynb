{
 "cells": [
  {
   "cell_type": "code",
   "execution_count": 1,
   "id": "6b138a28",
   "metadata": {},
   "outputs": [
    {
     "name": "stdout",
     "output_type": "stream",
     "text": [
      "[0 1]\n"
     ]
    }
   ],
   "source": [
    "import sklearn \n",
    "from sklearn.linear_model import LogisticRegression\n",
    "from sklearn import tree \n",
    "\n",
    "# 4 examples of features with [red-color, green-color]\n",
    "features = [[0,120], [0, 110], [250, 150], [255, 163]]\n",
    "# green apples == 0; oranges == 1\n",
    "labels = [0, 0, 1, 1]\n",
    "\n",
    "clf = tree.DecisionTreeClassifier()\n",
    "clf = clf.fit(features, labels)\n",
    "\n",
    "test_fruits = [[0,128], [249, 155]]\n",
    "test_labels = [0, 1] \n",
    "pred_labels = clf.predict(test_fruits)\n",
    "print(pred_labels)\n"
   ]
  },
  {
   "cell_type": "code",
   "execution_count": null,
   "id": "b40db72f",
   "metadata": {},
   "outputs": [],
   "source": []
  }
 ],
 "metadata": {
  "kernelspec": {
   "display_name": "Python 3.10.5 ('base')",
   "language": "python",
   "name": "python3"
  },
  "language_info": {
   "codemirror_mode": {
    "name": "ipython",
    "version": 3
   },
   "file_extension": ".py",
   "mimetype": "text/x-python",
   "name": "python",
   "nbconvert_exporter": "python",
   "pygments_lexer": "ipython3",
   "version": "3.10.6"
  },
  "vscode": {
   "interpreter": {
    "hash": "c08564a8e02f55b7980282e46512c37e0762c9fbfde8225c6d74d6a680b96aa4"
   }
  }
 },
 "nbformat": 4,
 "nbformat_minor": 5
}
